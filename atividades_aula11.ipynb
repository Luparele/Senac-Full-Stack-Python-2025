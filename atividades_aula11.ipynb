{
 "cells": [
  {
   "cell_type": "markdown",
   "metadata": {},
   "source": [
    "OPÇÃO 1:\n",
    "Sistema de Reservas de Hotel:\n",
    "\n",
    " * Crie uma classe Hotel com propriedades: nome, cidade, quartosDisponiveis.\n",
    " * Adicione métodos para reservarQuarto() e cancelarReserva().\n",
    " * Crie uma classe Cliente com nome, CPF e historicoReservas.\n",
    " * Implemente a interação entre elas.\n",
    "\n",
    "OPÃO 2:\n",
    "Jogo de RPG Simples:\n",
    "\n",
    " * Crie uma classe Personagem com vida, ataque, defesa e nome.\n",
    " * Desenvolva subclasses Guerreiro, Mago e Arqueiro com habilidades especiais.\n",
    " * Implemente um sistema de batalha onde dois personagens podem lutar.\n",
    "\n",
    "OPÇÃO 3:\n",
    "Sistema de Pedidos Online:\n",
    "\n",
    " * Modele classes para Produto (nome, preço, estoque), \n",
    " * Cliente (nome, endereço, carrinho) e Pedido (itens, total, status).\n",
    " * Implemente métodos para adicionar ao carrinho, finalizar compra e calcular frete.\n"
   ]
  }
 ],
 "metadata": {
  "language_info": {
   "name": "python"
  }
 },
 "nbformat": 4,
 "nbformat_minor": 2
}
